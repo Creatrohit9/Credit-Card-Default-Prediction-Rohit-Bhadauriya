{
  "nbformat": 4,
  "nbformat_minor": 0,
  "metadata": {
    "kernelspec": {
      "display_name": "Python 3",
      "language": "python",
      "name": "python3"
    },
    "language_info": {
      "codemirror_mode": {
        "name": "ipython",
        "version": 3
      },
      "file_extension": ".py",
      "mimetype": "text/x-python",
      "name": "python",
      "nbconvert_exporter": "python",
      "pygments_lexer": "ipython3",
      "version": "3.6.6"
    },
    "colab": {
      "name": "Credit Card Default Prediction Rohit Bhadauriya - Capstone Project.ipynb",
      "provenance": [],
      "collapsed_sections": [],
      "include_colab_link": true
    }
  },
  "cells": [
    {
      "cell_type": "markdown",
      "metadata": {
        "id": "view-in-github",
        "colab_type": "text"
      },
      "source": [
        "<a href=\"https://colab.research.google.com/github/Creatrohit9/Credit-Card-Default-Prediction-Rohit-Bhadauriya/blob/main/Credit_Card_Default_Prediction_Rohit_Bhadauriya_Capstone_Project.ipynb\" target=\"_parent\"><img src=\"https://colab.research.google.com/assets/colab-badge.svg\" alt=\"Open In Colab\"/></a>"
      ]
    },
    {
      "cell_type": "markdown",
      "metadata": {
        "id": "9Q12NfMtlBLc"
      },
      "source": [
        ""
      ]
    },
    {
      "cell_type": "markdown",
      "metadata": {
        "id": "tOGC-qoyhJeX"
      },
      "source": [
        "# <b><u> Project Title : Predicting whether a customer will default on his/her credit card </u></b>"
      ]
    },
    {
      "cell_type": "markdown",
      "metadata": {
        "id": "Y06xIdG26kRF"
      },
      "source": [
        "## <b> Problem Description </b>\n",
        "\n",
        "### This project is aimed at predicting the case of customers default payments in Taiwan. From the perspective of risk management, the result of predictive accuracy of the estimated probability of default will be more valuable than the binary result of classification - credible or not credible clients. We can use the [K-S chart](https://www.listendata.com/2019/07/KS-Statistics-Python.html) to evaluate which customers will default on their credit card payments\n"
      ]
    },
    {
      "cell_type": "markdown",
      "metadata": {
        "id": "AlLxAtlziMbP"
      },
      "source": [
        "## <b> Data Description </b>\n",
        "\n",
        "### <b>Attribute Information: </b>\n",
        "\n",
        "### This research employed a binary variable, default payment (Yes = 1, No = 0), as the response variable. This study reviewed the literature and used the following 23 variables as explanatory variables:\n",
        "* ### X1: Amount of the given credit (NT dollar): it includes both the individual consumer credit and his/her family (supplementary) credit.\n",
        "* ### X2: Gender (1 = male; 2 = female).\n",
        "* ### X3: Education (1 = graduate school; 2 = university; 3 = high school; 4 = others).\n",
        "* ### X4: Marital status (1 = married; 2 = single; 3 = others).\n",
        "* ### X5: Age (year).\n",
        "* ### X6 - X11: History of past payment. We tracked the past monthly payment records (from April to September, 2005) as follows: X6 = the repayment status in September, 2005; X7 = the repayment status in August, 2005; . . .;X11 = the repayment status in April, 2005. The measurement scale for the repayment status is: -1 = pay duly; 1 = payment delay for one month; 2 = payment delay for two months; . . .; 8 = payment delay for eight months; 9 = payment delay for nine months and above.\n",
        "* ### X12-X17: Amount of bill statement (NT dollar). X12 = amount of bill statement in September, 2005; X13 = amount of bill statement in August, 2005; . . .; X17 = amount of bill statement in April, 2005.\n",
        "* ### X18-X23: Amount of previous payment (NT dollar). X18 = amount paid in September, 2005; X19 = amount paid in August, 2005; . . .;X23 = amount paid in April, 2005."
      ]
    },
    {
      "cell_type": "code",
      "metadata": {
        "id": "dByMsuzT8Tnw"
      },
      "source": [
        "# Importing all libraries\n",
        "import pandas as pd\n",
        "import numpy as np\n",
        "import matplotlib.pyplot as plt\n",
        "import seaborn as sns\n",
        "% matplotlib inline\n",
        "\n",
        "import warnings\n",
        "warnings.filterwarnings('ignore')\n",
        "from sklearn.preprocessing import StandardScaler\n",
        "from sklearn.model_selection import train_test_split\n",
        "from sklearn.linear_model import LogisticRegression\n",
        "from sklearn.model_selection import GridSearchCV\n",
        "\n",
        "from sklearn.metrics import accuracy_score, recall_score, precision_score, f1_score, roc_auc_score, confusion_matrix, roc_curve, auc\n",
        "\n",
        "from sklearn.svm import SVC"
      ],
      "execution_count": 1,
      "outputs": []
    },
    {
      "cell_type": "code",
      "metadata": {
        "id": "8lExylCyTsQa"
      },
      "source": [
        "path='/content/drive/MyDrive/Copy of creditcard.csv'"
      ],
      "execution_count": 3,
      "outputs": []
    },
    {
      "cell_type": "code",
      "metadata": {
        "colab": {
          "base_uri": "https://localhost:8080/"
        },
        "id": "JsEfEShqUB_X",
        "outputId": "84c5f684-ef63-4baa-9b0c-f1251b716cec"
      },
      "source": [
        "from google.colab import drive\n",
        "drive.mount('/content/drive')"
      ],
      "execution_count": 2,
      "outputs": [
        {
          "output_type": "stream",
          "name": "stdout",
          "text": [
            "Mounted at /content/drive\n"
          ]
        }
      ]
    },
    {
      "cell_type": "code",
      "metadata": {
        "id": "IHADSsx6UYY7"
      },
      "source": [
        "cred_df=pd.read_csv(path,header=1)"
      ],
      "execution_count": 4,
      "outputs": []
    },
    {
      "cell_type": "code",
      "metadata": {
        "colab": {
          "base_uri": "https://localhost:8080/",
          "height": 224
        },
        "id": "YF4BvL_gUlkJ",
        "outputId": "b957eb09-8fb6-4935-c744-a7831ae6c7cb"
      },
      "source": [
        "cred_df.head()"
      ],
      "execution_count": 5,
      "outputs": [
        {
          "output_type": "execute_result",
          "data": {
            "text/html": [
              "<div>\n",
              "<style scoped>\n",
              "    .dataframe tbody tr th:only-of-type {\n",
              "        vertical-align: middle;\n",
              "    }\n",
              "\n",
              "    .dataframe tbody tr th {\n",
              "        vertical-align: top;\n",
              "    }\n",
              "\n",
              "    .dataframe thead th {\n",
              "        text-align: right;\n",
              "    }\n",
              "</style>\n",
              "<table border=\"1\" class=\"dataframe\">\n",
              "  <thead>\n",
              "    <tr style=\"text-align: right;\">\n",
              "      <th></th>\n",
              "      <th>0.11469728900000001</th>\n",
              "      <th>0.796303317</th>\n",
              "      <th>-0.14955297</th>\n",
              "      <th>-0.823010912</th>\n",
              "      <th>0.87876293</th>\n",
              "      <th>-0.5531516679999999</th>\n",
              "      <th>0.939258609</th>\n",
              "      <th>-0.10850208199999999</th>\n",
              "      <th>0.111137136</th>\n",
              "      <th>-0.39052109</th>\n",
              "      <th>-1.949545633</th>\n",
              "      <th>-0.49443616100000004</th>\n",
              "      <th>-0.35369634299999997</th>\n",
              "      <th>0.158729134</th>\n",
              "      <th>-0.267238818</th>\n",
              "      <th>0.234802455</th>\n",
              "      <th>-0.754936068</th>\n",
              "      <th>-0.34301213799999997</th>\n",
              "      <th>0.31217459999999997</th>\n",
              "      <th>-0.042711165</th>\n",
              "      <th>-0.335776323</th>\n",
              "      <th>-0.807853023</th>\n",
              "      <th>-0.055940317</th>\n",
              "      <th>-1.025281481</th>\n",
              "      <th>-0.369557232</th>\n",
              "      <th>0.204653108</th>\n",
              "      <th>0.24272434699999998</th>\n",
              "      <th>0.085712556</th>\n",
              "      <th>0.89</th>\n",
              "      <th>0</th>\n",
              "    </tr>\n",
              "  </thead>\n",
              "  <tbody>\n",
              "    <tr>\n",
              "      <th>0</th>\n",
              "      <td>-0.039318</td>\n",
              "      <td>0.495784</td>\n",
              "      <td>-0.810884</td>\n",
              "      <td>0.546693</td>\n",
              "      <td>1.986257</td>\n",
              "      <td>4.386342</td>\n",
              "      <td>-1.344891</td>\n",
              "      <td>-1.743736</td>\n",
              "      <td>-0.563103</td>\n",
              "      <td>-0.616315</td>\n",
              "      <td>-0.587786</td>\n",
              "      <td>0.317419</td>\n",
              "      <td>-0.408521</td>\n",
              "      <td>0.719639</td>\n",
              "      <td>0.226926</td>\n",
              "      <td>-0.296316</td>\n",
              "      <td>-0.040143</td>\n",
              "      <td>0.119177</td>\n",
              "      <td>1.057682</td>\n",
              "      <td>0.926255</td>\n",
              "      <td>-1.377003</td>\n",
              "      <td>-0.072200</td>\n",
              "      <td>-0.197573</td>\n",
              "      <td>1.014807</td>\n",
              "      <td>1.011293</td>\n",
              "      <td>-0.167684</td>\n",
              "      <td>0.113136</td>\n",
              "      <td>0.256836</td>\n",
              "      <td>85.00</td>\n",
              "      <td>0</td>\n",
              "    </tr>\n",
              "    <tr>\n",
              "      <th>1</th>\n",
              "      <td>2.275706</td>\n",
              "      <td>-1.531508</td>\n",
              "      <td>-1.021969</td>\n",
              "      <td>-1.602152</td>\n",
              "      <td>-1.220329</td>\n",
              "      <td>-0.462376</td>\n",
              "      <td>-1.196485</td>\n",
              "      <td>-0.147058</td>\n",
              "      <td>-0.950224</td>\n",
              "      <td>1.560463</td>\n",
              "      <td>-1.753256</td>\n",
              "      <td>-1.331010</td>\n",
              "      <td>-0.061941</td>\n",
              "      <td>-0.405532</td>\n",
              "      <td>0.048083</td>\n",
              "      <td>-0.307503</td>\n",
              "      <td>0.289363</td>\n",
              "      <td>0.189739</td>\n",
              "      <td>0.022546</td>\n",
              "      <td>-0.408289</td>\n",
              "      <td>-0.193271</td>\n",
              "      <td>-0.103533</td>\n",
              "      <td>0.150945</td>\n",
              "      <td>-0.811083</td>\n",
              "      <td>-0.197913</td>\n",
              "      <td>-0.128446</td>\n",
              "      <td>0.014197</td>\n",
              "      <td>-0.051289</td>\n",
              "      <td>42.70</td>\n",
              "      <td>0</td>\n",
              "    </tr>\n",
              "    <tr>\n",
              "      <th>2</th>\n",
              "      <td>1.940137</td>\n",
              "      <td>-0.357671</td>\n",
              "      <td>-1.210551</td>\n",
              "      <td>0.382523</td>\n",
              "      <td>0.050823</td>\n",
              "      <td>-0.171322</td>\n",
              "      <td>-0.109124</td>\n",
              "      <td>-0.002115</td>\n",
              "      <td>0.869258</td>\n",
              "      <td>-0.001965</td>\n",
              "      <td>0.607629</td>\n",
              "      <td>1.048673</td>\n",
              "      <td>-0.514821</td>\n",
              "      <td>0.329538</td>\n",
              "      <td>-1.041463</td>\n",
              "      <td>-0.498797</td>\n",
              "      <td>-0.276887</td>\n",
              "      <td>0.114245</td>\n",
              "      <td>0.379447</td>\n",
              "      <td>-0.199280</td>\n",
              "      <td>0.157994</td>\n",
              "      <td>0.650355</td>\n",
              "      <td>0.034206</td>\n",
              "      <td>0.739535</td>\n",
              "      <td>0.223605</td>\n",
              "      <td>-0.195509</td>\n",
              "      <td>-0.012791</td>\n",
              "      <td>-0.056841</td>\n",
              "      <td>29.99</td>\n",
              "      <td>0</td>\n",
              "    </tr>\n",
              "    <tr>\n",
              "      <th>3</th>\n",
              "      <td>1.081395</td>\n",
              "      <td>-0.502615</td>\n",
              "      <td>1.075887</td>\n",
              "      <td>-0.543359</td>\n",
              "      <td>-1.472946</td>\n",
              "      <td>-1.065484</td>\n",
              "      <td>-0.443231</td>\n",
              "      <td>-0.143374</td>\n",
              "      <td>1.659826</td>\n",
              "      <td>-1.131238</td>\n",
              "      <td>0.173132</td>\n",
              "      <td>1.430172</td>\n",
              "      <td>0.915609</td>\n",
              "      <td>-0.336588</td>\n",
              "      <td>1.140171</td>\n",
              "      <td>-0.653626</td>\n",
              "      <td>-0.016567</td>\n",
              "      <td>0.066287</td>\n",
              "      <td>0.242537</td>\n",
              "      <td>0.059880</td>\n",
              "      <td>0.224157</td>\n",
              "      <td>0.821209</td>\n",
              "      <td>-0.137223</td>\n",
              "      <td>0.986259</td>\n",
              "      <td>0.563228</td>\n",
              "      <td>-0.574206</td>\n",
              "      <td>0.089673</td>\n",
              "      <td>0.052036</td>\n",
              "      <td>68.00</td>\n",
              "      <td>0</td>\n",
              "    </tr>\n",
              "    <tr>\n",
              "      <th>4</th>\n",
              "      <td>0.441380</td>\n",
              "      <td>-2.217230</td>\n",
              "      <td>0.802581</td>\n",
              "      <td>-0.127056</td>\n",
              "      <td>-1.867945</td>\n",
              "      <td>0.495430</td>\n",
              "      <td>-0.741205</td>\n",
              "      <td>0.214230</td>\n",
              "      <td>-0.198782</td>\n",
              "      <td>0.311865</td>\n",
              "      <td>1.308096</td>\n",
              "      <td>0.644987</td>\n",
              "      <td>0.029716</td>\n",
              "      <td>-0.594013</td>\n",
              "      <td>-1.096101</td>\n",
              "      <td>0.635967</td>\n",
              "      <td>0.802594</td>\n",
              "      <td>-1.483659</td>\n",
              "      <td>0.636492</td>\n",
              "      <td>0.866981</td>\n",
              "      <td>0.346116</td>\n",
              "      <td>0.232975</td>\n",
              "      <td>-0.316073</td>\n",
              "      <td>0.288840</td>\n",
              "      <td>0.103051</td>\n",
              "      <td>-0.289289</td>\n",
              "      <td>-0.010973</td>\n",
              "      <td>0.085977</td>\n",
              "      <td>423.70</td>\n",
              "      <td>0</td>\n",
              "    </tr>\n",
              "  </tbody>\n",
              "</table>\n",
              "</div>"
            ],
            "text/plain": [
              "   0.11469728900000001  0.796303317  -0.14955297  ...  0.085712556    0.89  0\n",
              "0            -0.039318     0.495784    -0.810884  ...     0.256836   85.00  0\n",
              "1             2.275706    -1.531508    -1.021969  ...    -0.051289   42.70  0\n",
              "2             1.940137    -0.357671    -1.210551  ...    -0.056841   29.99  0\n",
              "3             1.081395    -0.502615     1.075887  ...     0.052036   68.00  0\n",
              "4             0.441380    -2.217230     0.802581  ...     0.085977  423.70  0\n",
              "\n",
              "[5 rows x 30 columns]"
            ]
          },
          "metadata": {},
          "execution_count": 5
        }
      ]
    },
    {
      "cell_type": "code",
      "metadata": {
        "id": "YWMaOWNvUpBG"
      },
      "source": [
        ""
      ],
      "execution_count": null,
      "outputs": []
    }
  ]
}